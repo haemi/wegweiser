{
 "cells": [
  {
   "cell_type": "code",
   "execution_count": 4,
   "id": "initial_id",
   "metadata": {
    "collapsed": true,
    "ExecuteTime": {
     "end_time": "2023-11-16T13:49:18.315559Z",
     "start_time": "2023-11-16T13:49:18.311684Z"
    }
   },
   "outputs": [
    {
     "name": "stdout",
     "output_type": "stream",
     "text": [
      "[[47.44629, 9.69677], [47.44608, 9.69549], [47.44595, 9.69473], [47.44583, 9.69404], [47.44578, 9.6936], [47.44575, 9.69295], [47.44574, 9.69273], [47.44572, 9.6925], [47.44566, 9.69202], [47.44563, 9.69173]]\n"
     ]
    }
   ],
   "source": [
    "from shapely.geometry import Point, LineString\n",
    "\n",
    "def f(frame):\n",
    "    xy = frame.xy\n",
    "    longs = xy[0].tolist()\n",
    "    lats = xy[1].tolist()\n",
    "    return [list(z) for z in zip(lats, longs)]\n",
    "\n",
    "line = LineString([(9.69677, 47.44629), (9.69549, 47.44608), (9.69473, 47.44595), (9.69404, 47.44583), (9.69360, 47.44578), (9.69295, 47.44575), (9.69273, 47.44574), (9.69250, 47.44572), (9.69202, 47.44566), (9.69173, 47.44563)])\n",
    "print(f(line))"
   ]
  },
  {
   "cell_type": "code",
   "execution_count": null,
   "outputs": [],
   "source": [],
   "metadata": {
    "collapsed": false
   },
   "id": "809d1ae0ce32cbe"
  }
 ],
 "metadata": {
  "kernelspec": {
   "display_name": "Python 3",
   "language": "python",
   "name": "python3"
  },
  "language_info": {
   "codemirror_mode": {
    "name": "ipython",
    "version": 2
   },
   "file_extension": ".py",
   "mimetype": "text/x-python",
   "name": "python",
   "nbconvert_exporter": "python",
   "pygments_lexer": "ipython2",
   "version": "2.7.6"
  }
 },
 "nbformat": 4,
 "nbformat_minor": 5
}
