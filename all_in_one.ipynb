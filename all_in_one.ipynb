{
 "cells": [
  {
   "cell_type": "code",
   "execution_count": 51,
   "outputs": [],
   "source": [
    "import json"
   ],
   "metadata": {
    "collapsed": false,
    "ExecuteTime": {
     "end_time": "2023-09-03T19:15:32.787037Z",
     "start_time": "2023-09-03T19:15:32.786220Z"
    }
   },
   "id": "f9d9a31eafe9e80"
  },
  {
   "cell_type": "code",
   "execution_count": 65,
   "outputs": [
    {
     "data": {
      "text/plain": "array([[   0,  114, 1314, ...,   31, 1424,  212],\n       [ 114,    0, 1429, ...,  146, 1534,  321],\n       [1314, 1429,    0, ..., 1282, 2426, 1473],\n       ...,\n       [  31,  146, 1282, ...,    0, 1416,  204],\n       [1424, 1534, 2396, ..., 1416,    0, 1212],\n       [ 212,  321, 1459, ...,  204, 1212,    0]])"
     },
     "execution_count": 65,
     "metadata": {},
     "output_type": "execute_result"
    }
   ],
   "source": [
    "import osmnx as ox\n",
    "import numpy as np\n",
    "import networkx as nx\n",
    "import re\n",
    "\n",
    "with open(\"data/Gemeinde Höchst/guideposts_coordinates.txt\") as f:\n",
    "    lines = f.readlines()\n",
    "\n",
    "    gps_coordinates = []\n",
    "\n",
    "    G = ox.graph_from_place(\"Gemeinde Höchst\", network_type='all_private', simplify=False)\n",
    "\n",
    "    pattern = r'Latitude: (\\d+\\.\\d+), Longitude: (\\d+\\.\\d+),.*'\n",
    "\n",
    "    for line in lines:\n",
    "        lat = float(re.sub(pattern, r'\\1', line))\n",
    "        lon = float(re.sub(pattern, r'\\2', line))\n",
    "        gps_coordinates.append((lat, lon))\n",
    "\n",
    "    # Find the nearest nodes to the GPS coordinates\n",
    "    nodes = ox.distance.nearest_nodes(G, X=[x[1] for x in gps_coordinates], Y=[x[0] for x in gps_coordinates])\n",
    "\n",
    "    # Calculate the shortest path length between each pair of nodes\n",
    "    n = len(nodes)\n",
    "    distance_matrix = np.zeros((n, n), dtype=int)\n",
    "\n",
    "    for i in range(n):\n",
    "        for j in range(n):\n",
    "            if i != j:\n",
    "                try:\n",
    "                    distance_matrix[i][j] = int(nx.shortest_path_length(G, nodes[i], nodes[j], weight='length'))\n",
    "                except nx.NetworkXNoPath:\n",
    "                    distance_matrix[i][j] = 999999999\n",
    "\n",
    "distance_matrix"
   ],
   "metadata": {
    "collapsed": false,
    "ExecuteTime": {
     "end_time": "2023-09-03T19:53:56.226418Z",
     "start_time": "2023-09-03T19:53:48.825609Z"
    }
   },
   "id": "b8ae7f5f63736fea"
  },
  {
   "cell_type": "code",
   "execution_count": 66,
   "outputs": [],
   "source": [
    "data = {\"distance_matrix\": distance_matrix, \"num_vehicles\": 1, \"depot\": 4}\n",
    "\n",
    "def print_solution(manager, routing, solution):\n",
    "    \"\"\"Prints solution on console.\"\"\"\n",
    "    print(f\"Objective: {solution.ObjectiveValue()} miles\")\n",
    "    index = routing.Start(0)\n",
    "    plan_output = \"Route for vehicle 0:\\n\"\n",
    "    route_distance = 0\n",
    "    while not routing.IsEnd(index):\n",
    "        plan_output += f\" {manager.IndexToNode(index)} ->\"\n",
    "        previous_index = index\n",
    "        index = solution.Value(routing.NextVar(index))\n",
    "        route_distance += routing.GetArcCostForVehicle(previous_index, index, 0)\n",
    "    plan_output += f\" {manager.IndexToNode(index)}\\n\"\n",
    "    print(plan_output)\n",
    "    plan_output += f\"Route distance: {route_distance}miles\\n\""
   ],
   "metadata": {
    "collapsed": false,
    "ExecuteTime": {
     "end_time": "2023-09-03T19:53:58.489181Z",
     "start_time": "2023-09-03T19:53:58.483677Z"
    }
   },
   "id": "ae537db2cb37df28"
  },
  {
   "cell_type": "code",
   "execution_count": 67,
   "outputs": [
    {
     "name": "stdout",
     "output_type": "stream",
     "text": [
      "Objective: 23224 miles\n",
      "Route for vehicle 0:\n",
      " 4 -> 3 -> 2 -> 31 -> 0 -> 29 -> 1 -> 5 -> 23 -> 30 -> 6 -> 7 -> 28 -> 24 -> 25 -> 26 -> 8 -> 27 -> 13 -> 9 -> 10 -> 11 -> 12 -> 14 -> 15 -> 16 -> 19 -> 18 -> 17 -> 32 -> 20 -> 22 -> 21 -> 33 -> 4\n"
     ]
    }
   ],
   "source": [
    "from ortools.constraint_solver import routing_enums_pb2\n",
    "from ortools.constraint_solver import pywrapcp\n",
    "\n",
    "# Create the routing index manager.\n",
    "manager = pywrapcp.RoutingIndexManager(\n",
    "    len(data[\"distance_matrix\"]), data[\"num_vehicles\"], data[\"depot\"]\n",
    ")\n",
    "\n",
    "# Create Routing Model.\n",
    "routing = pywrapcp.RoutingModel(manager)\n",
    "\n",
    "\n",
    "def distance_callback(from_index, to_index):\n",
    "    \"\"\"Returns the distance between the two nodes.\"\"\"\n",
    "    # Convert from routing variable Index to distance matrix NodeIndex.\n",
    "    from_node = manager.IndexToNode(from_index)\n",
    "    to_node = manager.IndexToNode(to_index)\n",
    "    return data[\"distance_matrix\"][from_node][to_node]\n",
    "\n",
    "transit_callback_index = routing.RegisterTransitCallback(distance_callback)\n",
    "\n",
    "# Define cost of each arc.\n",
    "routing.SetArcCostEvaluatorOfAllVehicles(transit_callback_index)\n",
    "\n",
    "# Setting first solution heuristic.\n",
    "search_parameters = pywrapcp.DefaultRoutingSearchParameters()\n",
    "search_parameters.first_solution_strategy = (\n",
    "    routing_enums_pb2.FirstSolutionStrategy.PATH_CHEAPEST_ARC\n",
    ")\n",
    "\n",
    "# Solve the problem.\n",
    "solution = routing.SolveWithParameters(search_parameters)\n",
    "\n",
    "# Print solution on console.\n",
    "if solution:\n",
    "    print_solution(manager, routing, solution)"
   ],
   "metadata": {
    "collapsed": false,
    "ExecuteTime": {
     "end_time": "2023-09-03T19:53:59.583991Z",
     "start_time": "2023-09-03T19:53:59.568101Z"
    }
   },
   "id": "39d550c22e2713c6"
  },
  {
   "cell_type": "code",
   "execution_count": null,
   "outputs": [],
   "source": [],
   "metadata": {
    "collapsed": false
   },
   "id": "907b8bf0527f44e4"
  }
 ],
 "metadata": {
  "kernelspec": {
   "display_name": "Python 3",
   "language": "python",
   "name": "python3"
  },
  "language_info": {
   "codemirror_mode": {
    "name": "ipython",
    "version": 2
   },
   "file_extension": ".py",
   "mimetype": "text/x-python",
   "name": "python",
   "nbconvert_exporter": "python",
   "pygments_lexer": "ipython2",
   "version": "2.7.6"
  }
 },
 "nbformat": 4,
 "nbformat_minor": 5
}
