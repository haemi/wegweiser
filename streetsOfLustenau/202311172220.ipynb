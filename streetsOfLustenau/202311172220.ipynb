{
 "cells": [
  {
   "cell_type": "code",
   "execution_count": 35,
   "id": "initial_id",
   "metadata": {
    "collapsed": true,
    "ExecuteTime": {
     "end_time": "2023-11-17T21:25:31.007595Z",
     "start_time": "2023-11-17T21:25:31.001301Z"
    }
   },
   "outputs": [],
   "source": [
    "import networkx as nx\n",
    "from itertools import combinations"
   ]
  },
  {
   "cell_type": "code",
   "execution_count": 36,
   "outputs": [],
   "source": [
    "edge_graph = nx.Graph()"
   ],
   "metadata": {
    "collapsed": false,
    "ExecuteTime": {
     "end_time": "2023-11-17T21:25:31.195988Z",
     "start_time": "2023-11-17T21:25:31.193482Z"
    }
   },
   "id": "8163f0b3be246892"
  },
  {
   "cell_type": "code",
   "execution_count": 37,
   "outputs": [],
   "source": [
    "edge_graph.add_node(1)\n",
    "edge_graph.add_node(2)\n",
    "edge_graph.add_node(3)\n",
    "edge_graph.add_node(4)"
   ],
   "metadata": {
    "collapsed": false,
    "ExecuteTime": {
     "end_time": "2023-11-17T21:25:31.288091Z",
     "start_time": "2023-11-17T21:25:31.284372Z"
    }
   },
   "id": "763e90e797c19cb3"
  },
  {
   "cell_type": "code",
   "execution_count": 38,
   "outputs": [],
   "source": [
    "edge_graph.add_edge(1, 2)\n",
    "edge_graph.add_edge(2, 3)\n",
    "edge_graph.add_edge(3, 4)"
   ],
   "metadata": {
    "collapsed": false,
    "ExecuteTime": {
     "end_time": "2023-11-17T21:25:31.422444Z",
     "start_time": "2023-11-17T21:25:31.419727Z"
    }
   },
   "id": "5d0ea1828774b1a0"
  },
  {
   "cell_type": "code",
   "execution_count": 39,
   "outputs": [
    {
     "data": {
      "text/plain": "NodeView((1, 2, 3, 4))"
     },
     "execution_count": 39,
     "metadata": {},
     "output_type": "execute_result"
    }
   ],
   "source": [
    "edge_graph.nodes"
   ],
   "metadata": {
    "collapsed": false,
    "ExecuteTime": {
     "end_time": "2023-11-17T21:25:31.813032Z",
     "start_time": "2023-11-17T21:25:31.809207Z"
    }
   },
   "id": "5b7d780989fdde4f"
  },
  {
   "cell_type": "code",
   "execution_count": 40,
   "outputs": [
    {
     "data": {
      "text/plain": "EdgeView([(1, 2), (2, 3), (3, 4)])"
     },
     "execution_count": 40,
     "metadata": {},
     "output_type": "execute_result"
    }
   ],
   "source": [
    "edge_graph.edges"
   ],
   "metadata": {
    "collapsed": false,
    "ExecuteTime": {
     "end_time": "2023-11-17T21:25:32.160445Z",
     "start_time": "2023-11-17T21:25:32.157294Z"
    }
   },
   "id": "e396a922fee350d"
  },
  {
   "cell_type": "code",
   "execution_count": 41,
   "outputs": [
    {
     "name": "stdout",
     "output_type": "stream",
     "text": [
      "(1, 2) (2, 3)\n",
      "(1, 2) (3, 4)\n",
      "(2, 3) (3, 4)\n"
     ]
    }
   ],
   "source": [
    "for node1, node2 in combinations(edge_graph.edges, 2):\n",
    "    # Add edges between nodes that have a common endpoint in the original graph\n",
    "    print(node1, node2)\n",
    "    # if node1[1] == node2[0] or node1[0] == node2[1] or node1[1] == node2[1] or node1[0] == node2[0]:\n",
    "    #     edge_graph.add_edge(node1, node2)"
   ],
   "metadata": {
    "collapsed": false,
    "ExecuteTime": {
     "end_time": "2023-11-17T21:25:32.972699Z",
     "start_time": "2023-11-17T21:25:32.969420Z"
    }
   },
   "id": "9b76cf0b8d59ba80"
  },
  {
   "cell_type": "code",
   "execution_count": 31,
   "outputs": [
    {
     "data": {
      "text/plain": "EdgeView([(1, 2), (2, 3), (3, 4), ((1, 2), (2, 3)), ((2, 3), (3, 4))])"
     },
     "execution_count": 31,
     "metadata": {},
     "output_type": "execute_result"
    }
   ],
   "source": [
    "edge_graph.edges"
   ],
   "metadata": {
    "collapsed": false,
    "ExecuteTime": {
     "end_time": "2023-11-17T21:23:57.592767Z",
     "start_time": "2023-11-17T21:23:57.590264Z"
    }
   },
   "id": "43f66dd7e370d893"
  },
  {
   "cell_type": "code",
   "execution_count": 32,
   "outputs": [
    {
     "data": {
      "text/plain": "NodeView((1, 2, 3, 4, (1, 2), (2, 3), (3, 4)))"
     },
     "execution_count": 32,
     "metadata": {},
     "output_type": "execute_result"
    }
   ],
   "source": [
    "edge_graph.nodes"
   ],
   "metadata": {
    "collapsed": false,
    "ExecuteTime": {
     "end_time": "2023-11-17T21:24:00.869448Z",
     "start_time": "2023-11-17T21:24:00.865424Z"
    }
   },
   "id": "de8fd2489cf05107"
  },
  {
   "cell_type": "code",
   "execution_count": null,
   "outputs": [],
   "source": [],
   "metadata": {
    "collapsed": false
   },
   "id": "bdc5a7852be2f5a5"
  }
 ],
 "metadata": {
  "kernelspec": {
   "display_name": "Python 3",
   "language": "python",
   "name": "python3"
  },
  "language_info": {
   "codemirror_mode": {
    "name": "ipython",
    "version": 2
   },
   "file_extension": ".py",
   "mimetype": "text/x-python",
   "name": "python",
   "nbconvert_exporter": "python",
   "pygments_lexer": "ipython2",
   "version": "2.7.6"
  }
 },
 "nbformat": 4,
 "nbformat_minor": 5
}
